{
 "cells": [
  {
   "cell_type": "markdown",
   "id": "7437d26e",
   "metadata": {},
   "source": [
    "# <p style=\"font-family:JetBrains Mono; font-weight:bold; letter-spacing: 2px; color:#243139; font-size:140%; text-align:left;padding: 0px; border-bottom: 3px solid #000000\"> <a name=\"install-packages\"></a>Project Description</p>\n",
    "\n",
    "    The description of the competition, and web page can be foud below:\n",
    "\n",
    "https://www.kaggle.com/competitions/rsna-2023-abdominal-trauma-detection\n",
    "\n",
    "## <p style=\"font-family:JetBrains Mono; font-weight:bold; letter-spacing: 2px; color:#243139; font-size:140%; text-align:left;padding: 0px; border-bottom: 3px solid #000000\"> <a name=\"install-packages\"></a>Goal of the Competition</p>\n",
    "\n",
    "    Goal of the Competition Traumatic injury is the most common cause of death in the first four decades of life and a major public health problem around the world. There are estimated to be more than 5 million annual deaths worldwide from traumatic injury. Prompt and accurate diagnosis of traumatic injuries is crucial for initiating appropriate and timely interventions, which can significantly improve patient outcomes and survival rates. Computed tomography (CT) has become an indispensable tool in evaluating patients with suspected abdominal injuries due to its ability to provide detailed cross-sectional images of the abdomen.\n",
    "\n",
    "    Interpreting CT scans for abdominal trauma, however, can be a complex and time-consuming task, especially when multiple injuries or areas of subtle active bleeding are present. This challenge seeks to harness the power of artificial intelligence and machine learning to assist medical professionals in rapidly and precisely detecting injuries and grading their severity. The development of advanced algorithms for this purpose has the potential to improve trauma care and patient outcomes worldwide.\n",
    "\n",
    "## <p style=\"font-family:JetBrains Mono; font-weight:bold; letter-spacing: 2px; color:#243139; font-size:140%; text-align:left;padding: 0px; border-bottom: 3px solid #000000\"> <a name=\"install-packages\"></a>Context</p>\n",
    "\n",
    "    Blunt force abdominal trauma is among the most common types of traumatic injury, with the most frequent cause being motor vehicle accidents. Abdominal trauma may result in damage and internal bleeding of the internal organs, including the liver, spleen, kidneys, and bowel. Detection and classification of injuries are key to effective treatment and favorable outcomes. A large proportion of patients with abdominal trauma require urgent surgery. Abdominal trauma often cannot be diagnosed clinically by physical exam, patient symptoms, or laboratory tests.\n",
    "\n",
    "    Prompt diagnosis of abdominal trauma using medical imaging is thus critical to patient care. AI tools that assist and expedite diagnosis of abdominal trauma have the potential to substantially improve patient care and health outcomes in the emergency setting.\n",
    "\n",
    "    The RSNA Abdominal Trauma Detection AI Challenge, organized by the RSNA in collaboration with the American Society of Emergency Radiology (ASER) and the Society for Abdominal Radiology (SAR), gives researchers the task of building models that detect severe injury to the internal abdominal organs, including the liver, kidneys, spleen, and bowel, as well as any active internal bleeding."
   ]
  },
  {
   "cell_type": "markdown",
   "id": "00ae2246",
   "metadata": {},
   "source": [
    "# Table of Contents\n",
    "1. [Install Packages](#install-packages)\n",
    "2. [Variable Settings](#var-settings)\n",
    "3. [Kaggle Setup](#kaggle-setup)\n",
    "4. [Data Loading](#data-loading)\n",
    "5. [Exploratory Data Analysis (EDA)](#eda)\n",
    "6. [Preprocessing](#preprocessing)\n",
    "7. [Training](#training)\n",
    "8. [Inference](#inference)\n",
    "9. [Model Evaluation](#model-evaluation)\n"
   ]
  },
  {
   "cell_type": "markdown",
   "id": "104ea7cf",
   "metadata": {},
   "source": [
    "# <p style=\"font-family:JetBrains Mono; font-weight:bold; letter-spacing: 2px; color:#243139; font-size:140%; text-align:left;padding: 0px; border-bottom: 3px solid #000000\"> <a name=\"install-packages\"></a>Install Packages</p>"
   ]
  },
  {
   "cell_type": "code",
   "execution_count": null,
   "id": "4a55ee98",
   "metadata": {},
   "outputs": [],
   "source": [
    "# ! pip install -q git+https://github.com/keras-team/keras-cv"
   ]
  },
  {
   "cell_type": "code",
   "execution_count": 1,
   "id": "0afcb704",
   "metadata": {},
   "outputs": [
    {
     "name": "stdout",
     "output_type": "stream",
     "text": [
      "Installing tensorflow: Success\n",
      "Installing keras_tuner: Success\n",
      "Installing tensorflow_io: Success\n",
      "Installing kaggle: Success\n",
      "Installing pydicom: Success\n",
      "Installing opencv-python: Success\n",
      "Installing matplotlib: Success\n",
      "Installing pandas: Success\n",
      "Installing numpy: Success\n",
      "Installing scikit-learn: Success\n",
      "Installing scipy: Success\n",
      "Installing seaborn: Success\n",
      "Installing natsort: Success\n",
      "Installing shutup: Success\n"
     ]
    }
   ],
   "source": [
    "# Install Packages\n",
    "import subprocess\n",
    "\n",
    "def install_package(package_name, extra_command=None):\n",
    "    \"\"\"\n",
    "    Install a Python package using pip and return 'Success' or 'Fail' message.\n",
    "    \n",
    "    Args:\n",
    "        package_name (str): The name of the package to install.\n",
    "        extra_command (str, optional): Extra commands to add to the pip install command.\n",
    "    \n",
    "    Returns:\n",
    "        str: 'Success' if the package was successfully installed, 'Fail' otherwise.\n",
    "    \"\"\"\n",
    "    try:\n",
    "        cmd = f\"pip install {package_name} {extra_command}\"\n",
    "        result = subprocess.run(cmd, stdout=subprocess.PIPE, stderr=subprocess.PIPE, shell=True, text=True)\n",
    "        if result.returncode == 0:\n",
    "            return 'Success'\n",
    "        else:\n",
    "            return 'Fail'\n",
    "    except Exception as e:\n",
    "        return 'Fail'\n",
    "\n",
    "packages_to_install = ['tensorflow', 'keras_tuner', 'tensorflow_io', 'kaggle',\n",
    "                       'pydicom', 'opencv-python', 'matplotlib', 'pandas', \n",
    "                       'numpy', 'scikit-learn', 'scipy', 'seaborn', 'natsort', 'shutup']\n",
    "\n",
    "for package in packages_to_install:\n",
    "    print(f\"Installing {package}: {install_package(package)}\")\n"
   ]
  },
  {
   "cell_type": "markdown",
   "id": "83e70161",
   "metadata": {},
   "source": [
    "# <p style=\"font-family:JetBrains Mono; font-weight:bold; letter-spacing: 2px; color:#243139; font-size:140%; text-align:left;padding: 0px; border-bottom: 3px solid #000000\"> <a name=\"var-settings\"></a>Variable Settings</p>"
   ]
  },
  {
   "cell_type": "code",
   "execution_count": 2,
   "id": "1b496fae",
   "metadata": {},
   "outputs": [],
   "source": [
    "# Variable Settings\n",
    "competition_name = \"rsna-2023-abdominal-trauma-detection\"\n",
    "\n",
    "# download_dir = \"/path/to/download\"\n",
    "# zip_file = \"dataset.zip\"\n"
   ]
  },
  {
   "cell_type": "markdown",
   "id": "b69223a2",
   "metadata": {},
   "source": [
    "# <p style=\"font-family:JetBrains Mono; font-weight:bold; letter-spacing: 2px; color:#243139; font-size:140%; text-align:left;padding: 0px; border-bottom: 3px solid #000000\"> <a name=\"kaggle-setup\"></a>Kaggle Setup</p>"
   ]
  },
  {
   "cell_type": "code",
   "execution_count": 4,
   "id": "6482b092",
   "metadata": {},
   "outputs": [
    {
     "name": "stdout",
     "output_type": "stream",
     "text": [
      "Downloading rsna-2023-abdominal-trauma-detection.zip to /home/jack/github/rsna\n"
     ]
    },
    {
     "name": "stderr",
     "output_type": "stream",
     "text": [
      "  0%|          | 205M/315G [00:24<10:47:49, 8.71MB/s] "
     ]
    }
   ],
   "source": [
    "import os\n",
    "\n",
    "def download_dataset():\n",
    "    \"\"\"\n",
    "    Download a dataset from Kaggle.\n",
    "    \"\"\"\n",
    "    # Download the dataset\n",
    "    os.system(f'kaggle competitions download -c {competition_name}')\n",
    "\n",
    "def unzip_dataset():\n",
    "    \"\"\"\n",
    "    Unzip the dataset and display a message indicating success or failure.\n",
    "    \"\"\"\n",
    "    # List all files in the current directory\n",
    "    files = os.listdir()\n",
    "\n",
    "    # Find the first zip file in the directory\n",
    "    zip_file = next((file for file in files if file.endswith('.zip')), None)\n",
    "\n",
    "    if zip_file is None:\n",
    "        print(\"No zip file found in the current directory.\")\n",
    "        return\n",
    "\n",
    "    # Unzip the dataset while suppressing output\n",
    "    if os.system(f'unzip {zip_file} > /dev/null 2>&1') == 0:\n",
    "        print(\"Inflating successful.\")\n",
    "    else:\n",
    "        print(\"Inflating failed.\")\n",
    "\n",
    "if __name__ == \"__main__\":\n",
    "    download_dataset()\n",
    "    unzip_dataset()\n"
   ]
  },
  {
   "cell_type": "markdown",
   "id": "34a5a18b",
   "metadata": {},
   "source": [
    "# <p style=\"font-family:JetBrains Mono; font-weight:bold; letter-spacing: 2px; color:#243139; font-size:140%; text-align:left;padding: 0px; border-bottom: 3px solid #000000\"> <a name=\"data-loading\"></a>Data Loading</p>"
   ]
  },
  {
   "cell_type": "code",
   "execution_count": null,
   "id": "9f7a38d4",
   "metadata": {},
   "outputs": [],
   "source": [
    "# Data Loading\n",
    "# Placeholder for data loading code\n"
   ]
  },
  {
   "cell_type": "markdown",
   "id": "0de506eb",
   "metadata": {},
   "source": [
    "# <p style=\"font-family:JetBrains Mono; font-weight:bold; letter-spacing: 2px; color:#243139; font-size:140%; text-align:left;padding: 0px; border-bottom: 3px solid #000000\"> <a name=\"data-loading\"></a>Convert Dicom Images to PNG</p>"
   ]
  },
  {
   "cell_type": "code",
   "execution_count": null,
   "id": "0b942758",
   "metadata": {},
   "outputs": [],
   "source": []
  },
  {
   "cell_type": "code",
   "execution_count": null,
   "id": "de217cad",
   "metadata": {},
   "outputs": [],
   "source": []
  },
  {
   "cell_type": "markdown",
   "id": "d7cf9e57",
   "metadata": {},
   "source": [
    "# <p style=\"font-family:JetBrains Mono; font-weight:bold; letter-spacing: 2px; color:#243139; font-size:140%; text-align:left;padding: 0px; border-bottom: 3px solid #000000\"> <a name=\"eda\"></a>Exploratory Data Analysis (EDA)</p>"
   ]
  },
  {
   "cell_type": "code",
   "execution_count": null,
   "id": "e8d8df46",
   "metadata": {},
   "outputs": [],
   "source": [
    "# Exploratory Data Analysis (EDA)\n",
    "# Placeholder for EDA code\n"
   ]
  },
  {
   "cell_type": "markdown",
   "id": "35022df3",
   "metadata": {},
   "source": [
    "# <p style=\"font-family:JetBrains Mono; font-weight:bold; letter-spacing: 2px; color:#243139; font-size:140%; text-align:left;padding: 0px; border-bottom: 3px solid #000000\"> <a name=\"preprocessing\"></a>Preprocessing</p>"
   ]
  },
  {
   "cell_type": "code",
   "execution_count": null,
   "id": "0aa98c7f",
   "metadata": {},
   "outputs": [],
   "source": [
    "# Preprocessing\n",
    "# Placeholder for preprocessing code\n"
   ]
  },
  {
   "cell_type": "markdown",
   "id": "7ae4592d",
   "metadata": {},
   "source": [
    "# <p style=\"font-family:JetBrains Mono; font-weight:bold; letter-spacing: 2px; color:#243139; font-size:140%; text-align:left;padding: 0px; border-bottom: 3px solid #000000\"> <a name=\"training\"></a>Training</p>"
   ]
  },
  {
   "cell_type": "code",
   "execution_count": null,
   "id": "3abb6daf",
   "metadata": {},
   "outputs": [],
   "source": [
    "# Training\n",
    "# Placeholder for training code\n"
   ]
  },
  {
   "cell_type": "markdown",
   "id": "4b22460c",
   "metadata": {},
   "source": [
    "# <p style=\"font-family:JetBrains Mono; font-weight:bold; letter-spacing: 2px; color:#243139; font-size:140%; text-align:left;padding: 0px; border-bottom: 3px solid #000000\"> <a name=\"inference\"></a>Inference</p>"
   ]
  },
  {
   "cell_type": "code",
   "execution_count": null,
   "id": "c07cd632",
   "metadata": {},
   "outputs": [],
   "source": [
    "# Inference\n",
    "# Placeholder for inference code\n"
   ]
  },
  {
   "cell_type": "markdown",
   "id": "f2b594f2",
   "metadata": {},
   "source": [
    "# <p style=\"font-family:JetBrains Mono; font-weight:bold; letter-spacing: 2px; color:#243139; font-size:140%; text-align:left;padding: 0px; border-bottom: 3px solid #000000\"> <a name=\"model-evaluation\"></a>Model Evaluation</p>"
   ]
  },
  {
   "cell_type": "code",
   "execution_count": null,
   "id": "cd51f7e9",
   "metadata": {},
   "outputs": [],
   "source": [
    "# Model Evaluation\n",
    "# Placeholder for model evaluation code\n"
   ]
  }
 ],
 "metadata": {
  "kernelspec": {
   "display_name": ".venv",
   "language": "python",
   "name": "python3"
  },
  "language_info": {
   "codemirror_mode": {
    "name": "ipython",
    "version": 3
   },
   "file_extension": ".py",
   "mimetype": "text/x-python",
   "name": "python",
   "nbconvert_exporter": "python",
   "pygments_lexer": "ipython3",
   "version": "3.10.12"
  }
 },
 "nbformat": 4,
 "nbformat_minor": 5
}
